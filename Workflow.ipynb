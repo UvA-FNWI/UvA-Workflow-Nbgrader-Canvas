{
 "cells": [
  {
   "cell_type": "markdown",
   "metadata": {},
   "source": [
    "# Workflow Notebook Canvas-Nbgrader"
   ]
  },
  {
   "cell_type": "markdown",
   "metadata": {
    "extensions": {
     "jupyter_dashboards": {
      "version": 1,
      "views": {
       "grid_default": {
        "col": 0,
        "height": 17,
        "hidden": false,
        "row": 0,
        "width": 12
       },
       "report_default": {
        "hidden": false
       }
      }
     }
    }
   },
   "source": [
    "### Requirements:\n",
    "* Plagiarism check is only possible on Mac or Linux, not on Windows unfortunately, because the module `compare50` doesn't work on Windows.\n",
    "* This notebook has to be in the folder of the course, so next to the folders source, release etc. Jupyter also has to be started in this folder.\n",
    "* Only use one notebook per assignment, and give the notebook and assignment the same name."
   ]
  },
  {
   "cell_type": "markdown",
   "metadata": {
    "extensions": {
     "jupyter_dashboards": {
      "version": 1,
      "views": {
       "grid_default": {
        "col": 0,
        "height": 4,
        "hidden": false,
        "row": 17,
        "width": 4
       },
       "report_default": {
        "hidden": false
       }
      }
     }
    }
   },
   "source": [
    "## Start"
   ]
  },
  {
   "cell_type": "code",
   "execution_count": null,
   "metadata": {
    "ExecuteTime": {
     "end_time": "2019-04-19T11:48:36.026508Z",
     "start_time": "2019-04-19T11:48:32.206278Z"
    },
    "extensions": {
     "jupyter_dashboards": {
      "version": 1,
      "views": {
       "grid_default": {
        "hidden": true
       },
       "report_default": {
        "hidden": true
       }
      }
     }
    },
    "init_cell": true
   },
   "outputs": [],
   "source": [
    "%matplotlib inline\n",
    "from workflow_uva import Course\n",
    "course = Course()      "
   ]
  },
  {
   "cell_type": "markdown",
   "metadata": {},
   "source": [
    "### Config\n",
    "\n",
    "For more info about how to add things to the config file, check out https://github.com/jaspervdh96/Workflow."
   ]
  },
  {
   "cell_type": "code",
   "execution_count": null,
   "metadata": {},
   "outputs": [],
   "source": [
    "course.show_course_settings();"
   ]
  },
  {
   "cell_type": "markdown",
   "metadata": {
    "extensions": {
     "jupyter_dashboards": {
      "version": 1,
      "views": {
       "grid_default": {
        "col": 8,
        "height": 4,
        "hidden": false,
        "row": 17,
        "width": 4
       },
       "report_default": {
        "hidden": false
       }
      }
     }
    }
   },
   "source": [
    "## Adding the students to the nbgrader database"
   ]
  },
  {
   "cell_type": "code",
   "execution_count": null,
   "metadata": {
    "ExecuteTime": {
     "end_time": "2019-04-19T11:48:36.061477Z",
     "start_time": "2019-04-19T11:48:36.033494Z"
    },
    "extensions": {
     "jupyter_dashboards": {
      "version": 1,
      "views": {
       "grid_default": {
        "hidden": true
       },
       "report_default": {
        "hidden": true
       }
      }
     }
    }
   },
   "outputs": [],
   "source": [
    "course.button_db()"
   ]
  },
  {
   "cell_type": "markdown",
   "metadata": {
    "extensions": {
     "jupyter_dashboards": {
      "version": 1,
      "views": {
       "grid_default": {
        "col": 0,
        "height": 4,
        "hidden": false,
        "row": 29,
        "width": 4
       },
       "report_default": {
        "hidden": false
       }
      }
     }
    }
   },
   "source": [
    "# Assign Assignment\n",
    "Will update the assignment file, create a student version and update the assignment in the database.\n",
    "\n",
    "Will also create the assignment in Canvas if it does not yet exist. It however does not create the deadline, this should be done manually in Canvas."
   ]
  },
  {
   "cell_type": "code",
   "execution_count": null,
   "metadata": {
    "ExecuteTime": {
     "end_time": "2019-04-19T11:48:36.171413Z",
     "start_time": "2019-04-19T11:48:36.066474Z"
    },
    "extensions": {
     "jupyter_dashboards": {
      "version": 1,
      "views": {
       "grid_default": {
        "hidden": true
       },
       "report_default": {
        "hidden": true
       }
      }
     }
    }
   },
   "outputs": [],
   "source": [
    "course.assign_button();"
   ]
  },
  {
   "cell_type": "markdown",
   "metadata": {
    "extensions": {
     "jupyter_dashboards": {
      "version": 1,
      "views": {
       "grid_default": {
        "col": 0,
        "height": 6,
        "hidden": false,
        "row": 33,
        "width": 12
       },
       "report_default": {
        "hidden": false
       }
      }
     }
    }
   },
   "source": [
    "# Downloading and sorting files\n",
    "This function wil automatically download all submissions affiliated with this assignment from Canvas, and place them in the right folder for nbgrader.\n",
    "\n",
    "Alternatively, this function also runs zip collect . This can be used if the files don't have to be downloaded from Canvas (for example exams in testvision). Put the files (can be zipped) in the folder \n",
    "`downloaded/{assignment name}/archive`. Don't forget to change the regular expression in `nbgrader_config.py` to match the filenames. For more information see the [nbgrader website](https://nbgrader.readthedocs.io/en/stable/user_guide/managing_assignment_files_manually.html).\n"
   ]
  },
  {
   "cell_type": "code",
   "execution_count": null,
   "metadata": {
    "ExecuteTime": {
     "end_time": "2019-04-19T11:48:36.226381Z",
     "start_time": "2019-04-19T11:48:36.175414Z"
    },
    "extensions": {
     "jupyter_dashboards": {
      "version": 1,
      "views": {
       "grid_default": {
        "hidden": true
       },
       "report_default": {
        "hidden": true
       }
      }
     }
    }
   },
   "outputs": [],
   "source": [
    "course.download_button();"
   ]
  },
  {
   "cell_type": "markdown",
   "metadata": {
    "extensions": {
     "jupyter_dashboards": {
      "version": 1,
      "views": {
       "grid_default": {
        "col": 4,
        "height": 4,
        "hidden": false,
        "row": 29,
        "width": 4
       },
       "report_default": {
        "hidden": false
       }
      }
     }
    }
   },
   "source": [
    "# Autograding"
   ]
  },
  {
   "cell_type": "code",
   "execution_count": null,
   "metadata": {
    "ExecuteTime": {
     "end_time": "2019-04-19T11:48:36.285348Z",
     "start_time": "2019-04-19T11:48:36.231380Z"
    },
    "extensions": {
     "jupyter_dashboards": {
      "version": 1,
      "views": {
       "grid_default": {
        "hidden": true
       },
       "report_default": {
        "hidden": true
       }
      }
     }
    },
    "scrolled": true
   },
   "outputs": [],
   "source": [
    "course.autograde_button();"
   ]
  },
  {
   "cell_type": "markdown",
   "metadata": {
    "extensions": {
     "jupyter_dashboards": {
      "version": 1,
      "views": {
       "grid_default": {
        "col": 0,
        "height": 6,
        "hidden": false,
        "row": 39,
        "width": 12
       },
       "report_default": {
        "hidden": false
       }
      }
     }
    }
   },
   "source": [
    "# Plagiarism"
   ]
  },
  {
   "cell_type": "code",
   "execution_count": null,
   "metadata": {
    "ExecuteTime": {
     "end_time": "2019-04-19T11:48:36.338317Z",
     "start_time": "2019-04-19T11:48:36.289348Z"
    },
    "extensions": {
     "jupyter_dashboards": {
      "version": 1,
      "views": {
       "grid_default": {
        "hidden": true
       },
       "report_default": {
        "hidden": true
       }
      }
     }
    }
   },
   "outputs": [],
   "source": [
    "course.plagiat_button();"
   ]
  },
  {
   "cell_type": "markdown",
   "metadata": {
    "extensions": {
     "jupyter_dashboards": {
      "version": 1,
      "views": {
       "grid_default": {
        "col": 0,
        "height": 4,
        "hidden": false,
        "row": 45,
        "width": 4
       },
       "report_default": {
        "hidden": false
       }
      }
     }
    }
   },
   "source": [
    "# Visualisations"
   ]
  },
  {
   "cell_type": "markdown",
   "metadata": {},
   "source": [
    "## Distribution of the grades\n",
    "The interval is always `[begin, end)`, except for `[9.5,10.0]`\n",
    "\n",
    "### Percentage of successful students\n",
    "\n",
    "In principle, students who have been found suitable for the training because of their previous education or final exam (propaedeutic year) should be able to pass their exams. If this fails, the causes can be found, for example, in deficiencies in the exam or in education and / or due to insufficient effort from the students. In the propaedeutic phase, an exam with more than 30% fail marks points to non-student-related shortcomings in the exam or prior education. In the main phase, 90% of the students would have to pass an exam.\n",
    "\n",
    "### Average score of 5% best students\n",
    "\n",
    "With a good exam, the best students should have (almost) all the questions right. Because the best student can be an outlier, the average score of the 5% best students is a good indication of the quality of the exam. If the best students fail to answer (almost) all questions correctly, then there is probably a problem with the exam or education. The cesure determination of Cohen-Schotanus, whereby the average score of the 5% best students is taken as the reference point, corrects for this problem.\n",
    "\n",
    "Source (Dutch): https://toetsing.uva.nl/toetscyclus/analyseren/tentamenanalyse/tentamenanalyse.html#anker-percentage-geslaagde-studenten\n",
    "\n",
    "### Formula\n",
    "$$grade = min\\_grade + score * (10-min\\_grade) / max\\_score$$"
   ]
  },
  {
   "cell_type": "code",
   "execution_count": null,
   "metadata": {
    "ExecuteTime": {
     "end_time": "2019-04-19T11:48:37.784840Z",
     "start_time": "2019-04-19T11:48:36.343315Z"
    },
    "extensions": {
     "jupyter_dashboards": {
      "version": 1,
      "views": {
       "grid_default": {
        "hidden": true
       },
       "report_default": {
        "hidden": true
       }
      }
     }
    }
   },
   "outputs": [],
   "source": [
    "course.grades_button();"
   ]
  },
  {
   "cell_type": "markdown",
   "metadata": {},
   "source": [
    "## Item analysis\n",
    "\n",
    "### Rir value\n",
    "The Rit value represents the distinctive character of an item and represents the correlation (often indicated with the letter R) between the item and the total score on the test (Rit).\n",
    "\n",
    "The total score on a test also contains the score on the item with which you want to correlate. That distorts the correlation in a rosy way. The Rir value therefore indicates the correlation (R) between the item and the total score minus the score for the question in question (residual value). This is the Rir value. In this way a fairer representation is given of the distinctive character of an item.\n",
    "\n",
    "A question has a high distinctive character (Rir more than 0.25) if students with a high score make up for the question and the students with a low score make a mistake. The item then differs between students who perform well and students who do not perform as well. If students of all levels score the same on a question, there is no distinctive character (Rir is 0). If low-scoring students have the right question and high-scoring students are not (Rir is negative), then something is probably wrong, such as an incorrect key or an unclear formulation of the assignment."
   ]
  },
  {
   "cell_type": "code",
   "execution_count": null,
   "metadata": {
    "ExecuteTime": {
     "end_time": "2019-04-19T11:48:38.795254Z",
     "start_time": "2019-04-19T11:48:37.790834Z"
    },
    "extensions": {
     "jupyter_dashboards": {
      "version": 1,
      "views": {
       "grid_default": {
        "hidden": true
       },
       "report_default": {
        "hidden": true
       }
      }
     }
    }
   },
   "outputs": [],
   "source": [
    "course.item_button();"
   ]
  },
  {
   "cell_type": "markdown",
   "metadata": {
    "extensions": {
     "jupyter_dashboards": {
      "version": 1,
      "views": {
       "grid_default": {
        "col": 4,
        "height": 4,
        "hidden": false,
        "row": 45,
        "width": 4
       },
       "report_default": {
        "hidden": false
       }
      }
     }
    }
   },
   "source": [
    "## Statistics\n",
    "### Cronbachs Alpha\n",
    "The standard for the reliability of an exam depends on the purpose of the exam. If the exam is intended to determine the suitability of a student, a reliability of 0.80 or higher is desirable. This applies if all examinations have to be passed with a pass and compensation is not possible. When it comes to formative tests that only support learning, a reliability of 0.60 is sufficient. This is also the case with a compensatory examination regulation.\n",
    "\n",
    "A number of comments can be made about reliability as an indicator of the quality of an exam:\n",
    "*    The reliability is lower as the exam is more heterogeneous, ie it measures different types of knowledge and skills;\n",
    "*    The reliability becomes lower the more homogeneous the group of students, ie when the differences in level of students are small. This can be determined by the difference in scores between the 5% best and 5% worst students.\n",
    "*    The ratio for reliability is the lowest lower limit. In reality, the reliability can be higher.\n",
    "*    Reliability increases if the exam contains more items.\n",
    "\n",
    "Source (Dutch): http://toetsing.uva.nl/toetscyclus/analyseren/tentamenanalyse/tentamenanalyse.html"
   ]
  },
  {
   "cell_type": "code",
   "execution_count": null,
   "metadata": {
    "ExecuteTime": {
     "end_time": "2019-04-19T11:48:42.068695Z",
     "start_time": "2019-04-19T11:48:38.803251Z"
    },
    "extensions": {
     "jupyter_dashboards": {
      "version": 1,
      "views": {
       "grid_default": {
        "hidden": true
       },
       "report_default": {
        "hidden": true
       }
      }
     }
    }
   },
   "outputs": [],
   "source": [
    "course.visualize_validity()"
   ]
  },
  {
   "cell_type": "markdown",
   "metadata": {},
   "source": [
    "\n"
   ]
  },
  {
   "cell_type": "markdown",
   "metadata": {},
   "source": [
    "## Overview of the course"
   ]
  },
  {
   "cell_type": "code",
   "execution_count": null,
   "metadata": {
    "ExecuteTime": {
     "end_time": "2019-04-19T11:48:44.798122Z",
     "start_time": "2019-04-19T11:48:42.075691Z"
    }
   },
   "outputs": [],
   "source": [
    "course.visualize_overview()"
   ]
  },
  {
   "cell_type": "markdown",
   "metadata": {
    "extensions": {
     "jupyter_dashboards": {
      "version": 1,
      "views": {
       "grid_default": {
        "col": 0,
        "height": 6,
        "hidden": false,
        "row": 53,
        "width": 12
       },
       "report_default": {
        "hidden": false
       }
      }
     }
    }
   },
   "source": [
    "# Upload to Canvas\n",
    "This will upload the grades to canvas. It will not fill in anything if there's no grade in nbgrader. Nor will it change grade 0 on Canvas, or lower the grades.\n",
    "\n",
    "\n",
    "## Feedback\n",
    "If you select `feedback`, a [feedback page](https://nbgrader.readthedocs.io/en/0.2.x/user_guide/06_returning_feedback.html) will be uploaded to the submission on Canvas. This excludes the hidden tests and the traceback of errors/asserts. The traceback is excluded because often a part of the hidden tests is visible in it.\n",
    "\n",
    "If the grades are unchanged, no feedback file will be attached (to avoid spamming students)."
   ]
  },
  {
   "cell_type": "code",
   "execution_count": null,
   "metadata": {
    "ExecuteTime": {
     "end_time": "2019-04-19T11:48:45.142486Z",
     "start_time": "2019-04-19T11:48:44.803121Z"
    },
    "extensions": {
     "jupyter_dashboards": {
      "version": 1,
      "views": {
       "grid_default": {
        "hidden": true
       },
       "report_default": {
        "hidden": true
       }
      }
     }
    },
    "scrolled": true
   },
   "outputs": [],
   "source": [
    "course.upload_button()"
   ]
  },
  {
   "cell_type": "markdown",
   "metadata": {},
   "source": [
    "# Final Grades"
   ]
  },
  {
   "cell_type": "code",
   "execution_count": null,
   "metadata": {
    "ExecuteTime": {
     "end_time": "2019-04-19T11:48:52.974263Z",
     "start_time": "2019-04-19T11:48:45.155478Z"
    }
   },
   "outputs": [],
   "source": [
    "course.final_grades()"
   ]
  }
 ],
 "metadata": {
  "celltoolbar": "Initialization Cell",
  "extensions": {
   "jupyter_dashboards": {
    "activeView": "report_default",
    "version": 1,
    "views": {
     "grid_default": {
      "cellMargin": 10,
      "defaultCellHeight": 20,
      "maxColumns": 12,
      "name": "grid",
      "type": "grid"
     },
     "report_default": {
      "name": "report",
      "type": "report"
     }
    }
   }
  },
  "hide_input": false,
  "kernelspec": {
   "display_name": "Python 3",
   "language": "python",
   "name": "python3"
  },
  "language_info": {
   "codemirror_mode": {
    "name": "ipython",
    "version": 3
   },
   "file_extension": ".py",
   "mimetype": "text/x-python",
   "name": "python",
   "nbconvert_exporter": "python",
   "pygments_lexer": "ipython3",
   "version": "3.7.5"
  },
  "toc": {
   "nav_menu": {},
   "number_sections": true,
   "sideBar": true,
   "skip_h1_title": false,
   "title_cell": "Table of Contents",
   "title_sidebar": "Contents",
   "toc_cell": false,
   "toc_position": {
    "height": "calc(100% - 180px)",
    "left": "10px",
    "top": "150px",
    "width": "384px"
   },
   "toc_section_display": true,
   "toc_window_display": false
  },
  "varInspector": {
   "cols": {
    "lenName": 16,
    "lenType": 16,
    "lenVar": 40
   },
   "kernels_config": {
    "python": {
     "delete_cmd_postfix": "",
     "delete_cmd_prefix": "del ",
     "library": "var_list.py",
     "varRefreshCmd": "print(var_dic_list())"
    },
    "r": {
     "delete_cmd_postfix": ") ",
     "delete_cmd_prefix": "rm(",
     "library": "var_list.r",
     "varRefreshCmd": "cat(var_dic_list()) "
    }
   },
   "types_to_exclude": [
    "module",
    "function",
    "builtin_function_or_method",
    "instance",
    "_Feature"
   ],
   "window_display": false
  }
 },
 "nbformat": 4,
 "nbformat_minor": 2
}
