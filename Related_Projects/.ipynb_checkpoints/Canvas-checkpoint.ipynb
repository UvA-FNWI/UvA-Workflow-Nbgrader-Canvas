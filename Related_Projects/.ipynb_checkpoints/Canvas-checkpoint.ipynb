{
 "cells": [
  {
   "cell_type": "markdown",
   "metadata": {},
   "source": [
    "# Upload course to Canvas\n",
    "\n",
    "Het doel van onderstaande code is om alle informatie over deze course te onderhouden in het mapje waar dit notebook instaat, maar dit eenvoudig te laten synchroniseren met Canvas. Voor de docent zou dit moeten leiden tot één plek waar overzichtelijk alle informatie die onderhouden moet worden staat. Tegelijkertijd zou dit voor studenten moeten leiden tot eenzelfde overzichtelijke plek op Canvas, vanwaar zij alle course content kunnen zien.\n",
    "\n",
    "Voor dit om (automatisch) te werken moeten de volgende mapjes bestaan:\n",
    "* release\n",
    "    * Per week met een assignment staat hier een mapje genaamd `AssignmentWeekX` (waar X een getal is van 1 t/m 9). Hierin staat één file wederom genaamd `AssignmentWeekX`. Deze file wordt op Canvas gezet.\n",
    "* markdown\n",
    "* data\n",
    "    * Per week met een assignment staat hier een mapje genaamd `WeekX` (waar X een getal is van 1 t/m 9). In dit mapje staan alle files die bij een opdracht van een week-assignment horen.\n",
    "    \n",
    "    \n",
    "TO-DO:\n",
    "\n",
    "* Delete files which aren't used"
   ]
  },
  {
   "cell_type": "code",
   "execution_count": 1,
   "metadata": {},
   "outputs": [],
   "source": [
    "%matplotlib inline\n",
    "\n",
    "from __future__ import print_function\n",
    "\n",
    "import csv\n",
    "import os\n",
    "import re\n",
    "import shutil\n",
    "\n",
    "import pypandoc\n",
    "from traitlets.config import Config\n",
    "from canvasapi import Canvas\n",
    "from tqdm import tqdm, tqdm_notebook  # Progress bar"
   ]
  },
  {
   "cell_type": "code",
   "execution_count": 2,
   "metadata": {},
   "outputs": [],
   "source": [
    "canvas_id = 9999  # Course id on canvas\n",
    "API_URL = \"https://canvas.uva.nl\"\n",
    "API_KEY = \"\"\n",
    "canvas = Canvas(API_URL, API_KEY)\n",
    "course = canvas.get_course(canvas_id)"
   ]
  },
  {
   "cell_type": "code",
   "execution_count": 3,
   "metadata": {},
   "outputs": [
    {
     "data": {
      "text/plain": [
       "'Data Science'"
      ]
     },
     "execution_count": 3,
     "metadata": {},
     "output_type": "execute_result"
    }
   ],
   "source": [
    "# Upload syllabus\n",
    "html = pypandoc.convert_file('markdown/syllabus.md', 'html')\n",
    "course.update(course={'syllabus_body':html,'public_syllabus':True})"
   ]
  },
  {
   "cell_type": "code",
   "execution_count": 4,
   "metadata": {},
   "outputs": [],
   "source": [
    "def upload_data_files(module, week, folder):\n",
    "    if week in os.listdir('data/'):\n",
    "        # Get all files which need to be uploaded\n",
    "        for filename in os.listdir('data/%s' % week):\n",
    "\n",
    "            # Delete file if it already exists\n",
    "            files_in_folder = {\n",
    "                file.filename: file\n",
    "                for file in folder.get_files()\n",
    "            }\n",
    "            if filename in files_in_folder.keys():\n",
    "                files_in_folder[filename].delete()\n",
    "\n",
    "            # Upload file\n",
    "            folder.upload('data/%s/%s' % (week, filename))\n",
    "            # Get file_id\n",
    "            file_id = [\n",
    "                file.id for file in folder.get_files()\n",
    "                if file.filename == filename\n",
    "            ][0]\n",
    "            list_of_items = [item.title for item in module.get_module_items()]\n",
    "            if 'Databestand voor Assignment: %s' % filename not in list_of_items:\n",
    "                module.create_module_item(\n",
    "                    module_item={\n",
    "                        'type': 'File',\n",
    "                        'title': 'Databestand voor Assignment: %s' % filename,\n",
    "                        'content_id': file_id,\n",
    "                        'indent': 2\n",
    "                    })\n",
    "\n",
    "\n",
    "def upload_assignment_file(module, week, folder):\n",
    "    if 'Assignment%s' % week in os.listdir('release/'):\n",
    "        # Delete file if it already exists\n",
    "        files_in_folder = {file.filename: file for file in folder.get_files()}\n",
    "        if 'Assignment%s' % week in files_in_folder.keys():\n",
    "            files_in_folder['Assignment%s' % week].delete()\n",
    "\n",
    "        folder.upload('release/Assignment%s/Assignment%s.ipynb' % (week, week))\n",
    "        file_id = [\n",
    "            file.id for file in folder.get_files()\n",
    "            if file.filename == 'Assignment%s.ipynb' % week\n",
    "        ][0]\n",
    "        # Check if file is module-item\n",
    "        if 'Assignment%s' % week not in [\n",
    "                item.title for item in module.get_module_items()\n",
    "        ]:\n",
    "            # Add assignment as module item\n",
    "            module.create_module_item(\n",
    "                module_item={\n",
    "                    'type': 'File',\n",
    "                    'title': 'Assignment%s' % week,\n",
    "                    'content_id': file_id,\n",
    "                    'indent': 1\n",
    "                })\n",
    "\n",
    "\n",
    "def create_inleverveld(week, module, course):\n",
    "    list_of_items = [item.title for item in module.get_module_items()]\n",
    "    if 'Assignment%s' % week in os.listdir('release/'):\n",
    "        if 'Inleverveld %s' % week not in list_of_items:\n",
    "            assignmentdict = {\n",
    "                assignment.name: assignment.id\n",
    "                for assignment in course.get_assignments()\n",
    "            }\n",
    "\n",
    "            # If Assignment does not exist, create assignment\n",
    "            if 'Assignment%s' % week not in assignmentdict.keys():\n",
    "                course.create_assignment(\n",
    "                    assignment={'name': 'Assignment%s' % week})\n",
    "                assignmentdict = {\n",
    "                    assignment.name: assignment.id\n",
    "                    for assignment in course.get_assignments()\n",
    "                }\n",
    "\n",
    "            # Add module item\n",
    "            module.create_module_item(\n",
    "                module_item={\n",
    "                    'type': 'Assignment',\n",
    "                    'title': 'Inleverveld %s' % week,\n",
    "                    'content_id': assignmentdict['Assignment%s' % week],\n",
    "                    'position': 2\n",
    "                })\n",
    "\n",
    "\n",
    "def create_module(week):\n",
    "    modulesdict = {module.name: module for module in course.get_modules()}\n",
    "    if week not in modulesdict.keys():\n",
    "        course.create_module(module={'name': week, 'position': int(week[-1])})\n",
    "        modulesdict = {module.name: module for module in course.get_modules()}\n",
    "        modulesdict[week].edit(module={'published': True})\n",
    "    return modulesdict[week]\n",
    "\n",
    "\n",
    "def create_week_overview(week, module):\n",
    "    pages = {page.title: page for page in course.get_pages()}\n",
    "    if week not in pages.keys():\n",
    "        # Create page\n",
    "        course.create_page(\n",
    "            wiki_page={\n",
    "                'title': week,\n",
    "                'body': pypandoc.convert_file('markdown/%s.md' % week, 'html'),\n",
    "                'editing_roles': 'teachers'\n",
    "            })\n",
    "        # Select page and make it a module-item\n",
    "        pages = {page.title: page for page in course.get_pages()}\n",
    "        module.create_module_item(\n",
    "            module_item={\n",
    "                'type': 'Page',\n",
    "                'title': 'Overzicht %s' % week,\n",
    "                'content_id': pages[week].page_id,\n",
    "                'page_url': week.lower(),\n",
    "                'position': 1\n",
    "            })\n",
    "        # Select module-item and publish\n",
    "        item = {item.title: item\n",
    "                for item in module.get_module_items()}['Overzicht %s' % week]\n",
    "        item.edit(module_item={'published': True})\n",
    "    else:\n",
    "        # Update page if already exists\n",
    "        page = pages[week]\n",
    "        page.edit(\n",
    "            wiki_page={\n",
    "                'body': pypandoc.convert_file('markdown/%s.md' % week, 'html')\n",
    "            })\n",
    "\n",
    "\n",
    "def create_folder(week, course, basefolder):\n",
    "    dict_of_folders = {f.name: f for f in course.get_folders()}\n",
    "    if week not in dict_of_folders.keys():\n",
    "        return basefolder.create_folder(week)\n",
    "    else:\n",
    "        return dict_of_folders[week]"
   ]
  },
  {
   "cell_type": "code",
   "execution_count": 5,
   "metadata": {},
   "outputs": [
    {
     "data": {
      "application/vnd.jupyter.widget-view+json": {
       "model_id": "72e1bfecc8224a5da66eff5830cab87d",
       "version_major": 2,
       "version_minor": 0
      },
      "text/plain": [
       "HBox(children=(IntProgress(value=0, max=8), HTML(value='')))"
      ]
     },
     "metadata": {},
     "output_type": "display_data"
    },
    {
     "name": "stdout",
     "output_type": "stream",
     "text": [
      "\n"
     ]
    }
   ],
   "source": [
    "# Get Canvas base folder, to place other files in\n",
    "basefolder = [f for f in course.get_folders() if f.name == 'course files'][0]\n",
    "\n",
    "for n in tqdm_notebook(range(1, 9)):\n",
    "\n",
    "    week = \"Week%s\" % n\n",
    "\n",
    "    # Create module for each week if it doesn't exist\n",
    "    module = create_module(week)\n",
    "\n",
    "    # Create course plan page for week as page and module item\n",
    "    create_week_overview(week, module)\n",
    "\n",
    "    # Create canvas folder to place files in\n",
    "    folder = create_folder(week, course, basefolder)\n",
    "\n",
    "    create_inleverveld(week, module, course)\n",
    "\n",
    "    upload_assignment_file(module, week, folder)\n",
    "\n",
    "    upload_data_files(module, week, folder)"
   ]
  }
 ],
 "metadata": {
  "kernelspec": {
   "display_name": "Python 3",
   "language": "python",
   "name": "python3"
  },
  "language_info": {
   "codemirror_mode": {
    "name": "ipython",
    "version": 3
   },
   "file_extension": ".py",
   "mimetype": "text/x-python",
   "name": "python",
   "nbconvert_exporter": "python",
   "pygments_lexer": "ipython3",
   "version": "3.7.3"
  },
  "toc": {
   "nav_menu": {},
   "number_sections": false,
   "sideBar": true,
   "skip_h1_title": false,
   "title_cell": "Table of Contents",
   "title_sidebar": "Contents",
   "toc_cell": false,
   "toc_position": {},
   "toc_section_display": true,
   "toc_window_display": false
  },
  "varInspector": {
   "cols": {
    "lenName": 16,
    "lenType": 16,
    "lenVar": 40
   },
   "kernels_config": {
    "python": {
     "delete_cmd_postfix": "",
     "delete_cmd_prefix": "del ",
     "library": "var_list.py",
     "varRefreshCmd": "print(var_dic_list())"
    },
    "r": {
     "delete_cmd_postfix": ") ",
     "delete_cmd_prefix": "rm(",
     "library": "var_list.r",
     "varRefreshCmd": "cat(var_dic_list()) "
    }
   },
   "types_to_exclude": [
    "module",
    "function",
    "builtin_function_or_method",
    "instance",
    "_Feature"
   ],
   "window_display": false
  }
 },
 "nbformat": 4,
 "nbformat_minor": 2
}
